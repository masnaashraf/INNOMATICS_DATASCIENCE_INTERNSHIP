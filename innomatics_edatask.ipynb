{
  "nbformat": 4,
  "nbformat_minor": 0,
  "metadata": {
    "colab": {
      "provenance": [],
      "authorship_tag": "ABX9TyNxI31F9Hm21VCTcwh5jR5O",
      "include_colab_link": true
    },
    "kernelspec": {
      "name": "python3",
      "display_name": "Python 3"
    },
    "language_info": {
      "name": "python"
    }
  },
  "cells": [
    {
      "cell_type": "markdown",
      "metadata": {
        "id": "view-in-github",
        "colab_type": "text"
      },
      "source": [
        "<a href=\"https://colab.research.google.com/github/masnaashraf/INNOMATICS_DATASCIENCE_INTERNSHIP/blob/main/innomatics_edatask.ipynb\" target=\"_parent\"><img src=\"https://colab.research.google.com/assets/colab-badge.svg\" alt=\"Open In Colab\"/></a>"
      ]
    },
    {
      "cell_type": "code",
      "execution_count": 1,
      "metadata": {
        "id": "BbDvzmuA0LDV"
      },
      "outputs": [],
      "source": [
        "import pandas as pd\n",
        "import numpy as np"
      ]
    },
    {
      "cell_type": "code",
      "source": [
        "# Loading Dataset\n",
        "\n",
        "df = pd.read_csv(\"scores_data.csv\")"
      ],
      "metadata": {
        "id": "BhT5dErF08S5"
      },
      "execution_count": 2,
      "outputs": []
    },
    {
      "cell_type": "code",
      "source": [
        "# showing top five rows \n",
        "\n",
        "df.head()"
      ],
      "metadata": {
        "colab": {
          "base_uri": "https://localhost:8080/",
          "height": 206
        },
        "id": "eAawYuww1JWO",
        "outputId": "f3545b92-2a8a-4515-dc4c-1f436d8fdd4f"
      },
      "execution_count": 3,
      "outputs": [
        {
          "output_type": "execute_result",
          "data": {
            "text/plain": [
              "       Batch  User_ID     Score   \n",
              "0  AI_ELITE_7  uid_149       6 / 7\n",
              "1  AI_ELITE_7  uid_148       6 / 7\n",
              "2  AI_ELITE_7  uid_147       7 / 7\n",
              "3  AI_ELITE_7  uid_146       7 / 7\n",
              "4  AI_ELITE_7  uid_145       4 / 7"
            ],
            "text/html": [
              "\n",
              "  <div id=\"df-51033a84-4669-4edc-a879-40ad687f45e5\">\n",
              "    <div class=\"colab-df-container\">\n",
              "      <div>\n",
              "<style scoped>\n",
              "    .dataframe tbody tr th:only-of-type {\n",
              "        vertical-align: middle;\n",
              "    }\n",
              "\n",
              "    .dataframe tbody tr th {\n",
              "        vertical-align: top;\n",
              "    }\n",
              "\n",
              "    .dataframe thead th {\n",
              "        text-align: right;\n",
              "    }\n",
              "</style>\n",
              "<table border=\"1\" class=\"dataframe\">\n",
              "  <thead>\n",
              "    <tr style=\"text-align: right;\">\n",
              "      <th></th>\n",
              "      <th>Batch</th>\n",
              "      <th>User_ID</th>\n",
              "      <th>Score</th>\n",
              "    </tr>\n",
              "  </thead>\n",
              "  <tbody>\n",
              "    <tr>\n",
              "      <th>0</th>\n",
              "      <td>AI_ELITE_7</td>\n",
              "      <td>uid_149</td>\n",
              "      <td>6 / 7</td>\n",
              "    </tr>\n",
              "    <tr>\n",
              "      <th>1</th>\n",
              "      <td>AI_ELITE_7</td>\n",
              "      <td>uid_148</td>\n",
              "      <td>6 / 7</td>\n",
              "    </tr>\n",
              "    <tr>\n",
              "      <th>2</th>\n",
              "      <td>AI_ELITE_7</td>\n",
              "      <td>uid_147</td>\n",
              "      <td>7 / 7</td>\n",
              "    </tr>\n",
              "    <tr>\n",
              "      <th>3</th>\n",
              "      <td>AI_ELITE_7</td>\n",
              "      <td>uid_146</td>\n",
              "      <td>7 / 7</td>\n",
              "    </tr>\n",
              "    <tr>\n",
              "      <th>4</th>\n",
              "      <td>AI_ELITE_7</td>\n",
              "      <td>uid_145</td>\n",
              "      <td>4 / 7</td>\n",
              "    </tr>\n",
              "  </tbody>\n",
              "</table>\n",
              "</div>\n",
              "      <button class=\"colab-df-convert\" onclick=\"convertToInteractive('df-51033a84-4669-4edc-a879-40ad687f45e5')\"\n",
              "              title=\"Convert this dataframe to an interactive table.\"\n",
              "              style=\"display:none;\">\n",
              "        \n",
              "  <svg xmlns=\"http://www.w3.org/2000/svg\" height=\"24px\"viewBox=\"0 0 24 24\"\n",
              "       width=\"24px\">\n",
              "    <path d=\"M0 0h24v24H0V0z\" fill=\"none\"/>\n",
              "    <path d=\"M18.56 5.44l.94 2.06.94-2.06 2.06-.94-2.06-.94-.94-2.06-.94 2.06-2.06.94zm-11 1L8.5 8.5l.94-2.06 2.06-.94-2.06-.94L8.5 2.5l-.94 2.06-2.06.94zm10 10l.94 2.06.94-2.06 2.06-.94-2.06-.94-.94-2.06-.94 2.06-2.06.94z\"/><path d=\"M17.41 7.96l-1.37-1.37c-.4-.4-.92-.59-1.43-.59-.52 0-1.04.2-1.43.59L10.3 9.45l-7.72 7.72c-.78.78-.78 2.05 0 2.83L4 21.41c.39.39.9.59 1.41.59.51 0 1.02-.2 1.41-.59l7.78-7.78 2.81-2.81c.8-.78.8-2.07 0-2.86zM5.41 20L4 18.59l7.72-7.72 1.47 1.35L5.41 20z\"/>\n",
              "  </svg>\n",
              "      </button>\n",
              "      \n",
              "  <style>\n",
              "    .colab-df-container {\n",
              "      display:flex;\n",
              "      flex-wrap:wrap;\n",
              "      gap: 12px;\n",
              "    }\n",
              "\n",
              "    .colab-df-convert {\n",
              "      background-color: #E8F0FE;\n",
              "      border: none;\n",
              "      border-radius: 50%;\n",
              "      cursor: pointer;\n",
              "      display: none;\n",
              "      fill: #1967D2;\n",
              "      height: 32px;\n",
              "      padding: 0 0 0 0;\n",
              "      width: 32px;\n",
              "    }\n",
              "\n",
              "    .colab-df-convert:hover {\n",
              "      background-color: #E2EBFA;\n",
              "      box-shadow: 0px 1px 2px rgba(60, 64, 67, 0.3), 0px 1px 3px 1px rgba(60, 64, 67, 0.15);\n",
              "      fill: #174EA6;\n",
              "    }\n",
              "\n",
              "    [theme=dark] .colab-df-convert {\n",
              "      background-color: #3B4455;\n",
              "      fill: #D2E3FC;\n",
              "    }\n",
              "\n",
              "    [theme=dark] .colab-df-convert:hover {\n",
              "      background-color: #434B5C;\n",
              "      box-shadow: 0px 1px 3px 1px rgba(0, 0, 0, 0.15);\n",
              "      filter: drop-shadow(0px 1px 2px rgba(0, 0, 0, 0.3));\n",
              "      fill: #FFFFFF;\n",
              "    }\n",
              "  </style>\n",
              "\n",
              "      <script>\n",
              "        const buttonEl =\n",
              "          document.querySelector('#df-51033a84-4669-4edc-a879-40ad687f45e5 button.colab-df-convert');\n",
              "        buttonEl.style.display =\n",
              "          google.colab.kernel.accessAllowed ? 'block' : 'none';\n",
              "\n",
              "        async function convertToInteractive(key) {\n",
              "          const element = document.querySelector('#df-51033a84-4669-4edc-a879-40ad687f45e5');\n",
              "          const dataTable =\n",
              "            await google.colab.kernel.invokeFunction('convertToInteractive',\n",
              "                                                     [key], {});\n",
              "          if (!dataTable) return;\n",
              "\n",
              "          const docLinkHtml = 'Like what you see? Visit the ' +\n",
              "            '<a target=\"_blank\" href=https://colab.research.google.com/notebooks/data_table.ipynb>data table notebook</a>'\n",
              "            + ' to learn more about interactive tables.';\n",
              "          element.innerHTML = '';\n",
              "          dataTable['output_type'] = 'display_data';\n",
              "          await google.colab.output.renderOutput(dataTable, element);\n",
              "          const docLink = document.createElement('div');\n",
              "          docLink.innerHTML = docLinkHtml;\n",
              "          element.appendChild(docLink);\n",
              "        }\n",
              "      </script>\n",
              "    </div>\n",
              "  </div>\n",
              "  "
            ]
          },
          "metadata": {},
          "execution_count": 3
        }
      ]
    },
    {
      "cell_type": "code",
      "source": [
        "# showing Last five rows\n",
        "\n",
        "df.tail()"
      ],
      "metadata": {
        "colab": {
          "base_uri": "https://localhost:8080/",
          "height": 206
        },
        "id": "iuVXyo6q1Pms",
        "outputId": "d74a6777-ff07-4eec-ed1b-591b85e14b4a"
      },
      "execution_count": null,
      "outputs": [
        {
          "output_type": "execute_result",
          "data": {
            "text/plain": [
              "         Batch  User_ID     Score   \n",
              "144  AI_ELITE_4    uid_5       4 / 7\n",
              "145  AI_ELITE_4    uid_4       4 / 7\n",
              "146  AI_ELITE_4    uid_3       4 / 7\n",
              "147  AI_ELITE_4    uid_2       3 / 7\n",
              "148  AI_ELITE_4    uid_1       2 / 7"
            ],
            "text/html": [
              "\n",
              "  <div id=\"df-80a91c89-ec29-4f42-9cd8-2e590ac9f160\">\n",
              "    <div class=\"colab-df-container\">\n",
              "      <div>\n",
              "<style scoped>\n",
              "    .dataframe tbody tr th:only-of-type {\n",
              "        vertical-align: middle;\n",
              "    }\n",
              "\n",
              "    .dataframe tbody tr th {\n",
              "        vertical-align: top;\n",
              "    }\n",
              "\n",
              "    .dataframe thead th {\n",
              "        text-align: right;\n",
              "    }\n",
              "</style>\n",
              "<table border=\"1\" class=\"dataframe\">\n",
              "  <thead>\n",
              "    <tr style=\"text-align: right;\">\n",
              "      <th></th>\n",
              "      <th>Batch</th>\n",
              "      <th>User_ID</th>\n",
              "      <th>Score</th>\n",
              "    </tr>\n",
              "  </thead>\n",
              "  <tbody>\n",
              "    <tr>\n",
              "      <th>144</th>\n",
              "      <td>AI_ELITE_4</td>\n",
              "      <td>uid_5</td>\n",
              "      <td>4 / 7</td>\n",
              "    </tr>\n",
              "    <tr>\n",
              "      <th>145</th>\n",
              "      <td>AI_ELITE_4</td>\n",
              "      <td>uid_4</td>\n",
              "      <td>4 / 7</td>\n",
              "    </tr>\n",
              "    <tr>\n",
              "      <th>146</th>\n",
              "      <td>AI_ELITE_4</td>\n",
              "      <td>uid_3</td>\n",
              "      <td>4 / 7</td>\n",
              "    </tr>\n",
              "    <tr>\n",
              "      <th>147</th>\n",
              "      <td>AI_ELITE_4</td>\n",
              "      <td>uid_2</td>\n",
              "      <td>3 / 7</td>\n",
              "    </tr>\n",
              "    <tr>\n",
              "      <th>148</th>\n",
              "      <td>AI_ELITE_4</td>\n",
              "      <td>uid_1</td>\n",
              "      <td>2 / 7</td>\n",
              "    </tr>\n",
              "  </tbody>\n",
              "</table>\n",
              "</div>\n",
              "      <button class=\"colab-df-convert\" onclick=\"convertToInteractive('df-80a91c89-ec29-4f42-9cd8-2e590ac9f160')\"\n",
              "              title=\"Convert this dataframe to an interactive table.\"\n",
              "              style=\"display:none;\">\n",
              "        \n",
              "  <svg xmlns=\"http://www.w3.org/2000/svg\" height=\"24px\"viewBox=\"0 0 24 24\"\n",
              "       width=\"24px\">\n",
              "    <path d=\"M0 0h24v24H0V0z\" fill=\"none\"/>\n",
              "    <path d=\"M18.56 5.44l.94 2.06.94-2.06 2.06-.94-2.06-.94-.94-2.06-.94 2.06-2.06.94zm-11 1L8.5 8.5l.94-2.06 2.06-.94-2.06-.94L8.5 2.5l-.94 2.06-2.06.94zm10 10l.94 2.06.94-2.06 2.06-.94-2.06-.94-.94-2.06-.94 2.06-2.06.94z\"/><path d=\"M17.41 7.96l-1.37-1.37c-.4-.4-.92-.59-1.43-.59-.52 0-1.04.2-1.43.59L10.3 9.45l-7.72 7.72c-.78.78-.78 2.05 0 2.83L4 21.41c.39.39.9.59 1.41.59.51 0 1.02-.2 1.41-.59l7.78-7.78 2.81-2.81c.8-.78.8-2.07 0-2.86zM5.41 20L4 18.59l7.72-7.72 1.47 1.35L5.41 20z\"/>\n",
              "  </svg>\n",
              "      </button>\n",
              "      \n",
              "  <style>\n",
              "    .colab-df-container {\n",
              "      display:flex;\n",
              "      flex-wrap:wrap;\n",
              "      gap: 12px;\n",
              "    }\n",
              "\n",
              "    .colab-df-convert {\n",
              "      background-color: #E8F0FE;\n",
              "      border: none;\n",
              "      border-radius: 50%;\n",
              "      cursor: pointer;\n",
              "      display: none;\n",
              "      fill: #1967D2;\n",
              "      height: 32px;\n",
              "      padding: 0 0 0 0;\n",
              "      width: 32px;\n",
              "    }\n",
              "\n",
              "    .colab-df-convert:hover {\n",
              "      background-color: #E2EBFA;\n",
              "      box-shadow: 0px 1px 2px rgba(60, 64, 67, 0.3), 0px 1px 3px 1px rgba(60, 64, 67, 0.15);\n",
              "      fill: #174EA6;\n",
              "    }\n",
              "\n",
              "    [theme=dark] .colab-df-convert {\n",
              "      background-color: #3B4455;\n",
              "      fill: #D2E3FC;\n",
              "    }\n",
              "\n",
              "    [theme=dark] .colab-df-convert:hover {\n",
              "      background-color: #434B5C;\n",
              "      box-shadow: 0px 1px 3px 1px rgba(0, 0, 0, 0.15);\n",
              "      filter: drop-shadow(0px 1px 2px rgba(0, 0, 0, 0.3));\n",
              "      fill: #FFFFFF;\n",
              "    }\n",
              "  </style>\n",
              "\n",
              "      <script>\n",
              "        const buttonEl =\n",
              "          document.querySelector('#df-80a91c89-ec29-4f42-9cd8-2e590ac9f160 button.colab-df-convert');\n",
              "        buttonEl.style.display =\n",
              "          google.colab.kernel.accessAllowed ? 'block' : 'none';\n",
              "\n",
              "        async function convertToInteractive(key) {\n",
              "          const element = document.querySelector('#df-80a91c89-ec29-4f42-9cd8-2e590ac9f160');\n",
              "          const dataTable =\n",
              "            await google.colab.kernel.invokeFunction('convertToInteractive',\n",
              "                                                     [key], {});\n",
              "          if (!dataTable) return;\n",
              "\n",
              "          const docLinkHtml = 'Like what you see? Visit the ' +\n",
              "            '<a target=\"_blank\" href=https://colab.research.google.com/notebooks/data_table.ipynb>data table notebook</a>'\n",
              "            + ' to learn more about interactive tables.';\n",
              "          element.innerHTML = '';\n",
              "          dataTable['output_type'] = 'display_data';\n",
              "          await google.colab.output.renderOutput(dataTable, element);\n",
              "          const docLink = document.createElement('div');\n",
              "          docLink.innerHTML = docLinkHtml;\n",
              "          element.appendChild(docLink);\n",
              "        }\n",
              "      </script>\n",
              "    </div>\n",
              "  </div>\n",
              "  "
            ]
          },
          "metadata": {},
          "execution_count": 4
        }
      ]
    },
    {
      "cell_type": "code",
      "source": [
        "# showing 10 sample rows\n",
        "\n",
        "df.sample(10)"
      ],
      "metadata": {
        "colab": {
          "base_uri": "https://localhost:8080/",
          "height": 363
        },
        "id": "JqcH4VX91W6Y",
        "outputId": "c28e1b46-03b2-4aad-a67b-86a17d5a7146"
      },
      "execution_count": null,
      "outputs": [
        {
          "output_type": "execute_result",
          "data": {
            "text/plain": [
              "         Batch  User_ID     Score   \n",
              "139  AI_ELITE_4   uid_10       7 / 7\n",
              "116  AI_ELITE_4   uid_33       2 / 7\n",
              "75   AI_ELITE_6   uid_74       4 / 7\n",
              "143  AI_ELITE_4    uid_6       3 / 7\n",
              "62   AI_ELITE_6   uid_87       3 / 7\n",
              "124  AI_ELITE_4   uid_25       5 / 7\n",
              "89   AI_ELITE_6   uid_60       4 / 7\n",
              "148  AI_ELITE_4    uid_1       2 / 7\n",
              "67   AI_ELITE_6   uid_82       7 / 7\n",
              "129  AI_ELITE_4   uid_20       1 / 7"
            ],
            "text/html": [
              "\n",
              "  <div id=\"df-45fc74c0-875c-402a-8f68-c5477a9d7f99\">\n",
              "    <div class=\"colab-df-container\">\n",
              "      <div>\n",
              "<style scoped>\n",
              "    .dataframe tbody tr th:only-of-type {\n",
              "        vertical-align: middle;\n",
              "    }\n",
              "\n",
              "    .dataframe tbody tr th {\n",
              "        vertical-align: top;\n",
              "    }\n",
              "\n",
              "    .dataframe thead th {\n",
              "        text-align: right;\n",
              "    }\n",
              "</style>\n",
              "<table border=\"1\" class=\"dataframe\">\n",
              "  <thead>\n",
              "    <tr style=\"text-align: right;\">\n",
              "      <th></th>\n",
              "      <th>Batch</th>\n",
              "      <th>User_ID</th>\n",
              "      <th>Score</th>\n",
              "    </tr>\n",
              "  </thead>\n",
              "  <tbody>\n",
              "    <tr>\n",
              "      <th>139</th>\n",
              "      <td>AI_ELITE_4</td>\n",
              "      <td>uid_10</td>\n",
              "      <td>7 / 7</td>\n",
              "    </tr>\n",
              "    <tr>\n",
              "      <th>116</th>\n",
              "      <td>AI_ELITE_4</td>\n",
              "      <td>uid_33</td>\n",
              "      <td>2 / 7</td>\n",
              "    </tr>\n",
              "    <tr>\n",
              "      <th>75</th>\n",
              "      <td>AI_ELITE_6</td>\n",
              "      <td>uid_74</td>\n",
              "      <td>4 / 7</td>\n",
              "    </tr>\n",
              "    <tr>\n",
              "      <th>143</th>\n",
              "      <td>AI_ELITE_4</td>\n",
              "      <td>uid_6</td>\n",
              "      <td>3 / 7</td>\n",
              "    </tr>\n",
              "    <tr>\n",
              "      <th>62</th>\n",
              "      <td>AI_ELITE_6</td>\n",
              "      <td>uid_87</td>\n",
              "      <td>3 / 7</td>\n",
              "    </tr>\n",
              "    <tr>\n",
              "      <th>124</th>\n",
              "      <td>AI_ELITE_4</td>\n",
              "      <td>uid_25</td>\n",
              "      <td>5 / 7</td>\n",
              "    </tr>\n",
              "    <tr>\n",
              "      <th>89</th>\n",
              "      <td>AI_ELITE_6</td>\n",
              "      <td>uid_60</td>\n",
              "      <td>4 / 7</td>\n",
              "    </tr>\n",
              "    <tr>\n",
              "      <th>148</th>\n",
              "      <td>AI_ELITE_4</td>\n",
              "      <td>uid_1</td>\n",
              "      <td>2 / 7</td>\n",
              "    </tr>\n",
              "    <tr>\n",
              "      <th>67</th>\n",
              "      <td>AI_ELITE_6</td>\n",
              "      <td>uid_82</td>\n",
              "      <td>7 / 7</td>\n",
              "    </tr>\n",
              "    <tr>\n",
              "      <th>129</th>\n",
              "      <td>AI_ELITE_4</td>\n",
              "      <td>uid_20</td>\n",
              "      <td>1 / 7</td>\n",
              "    </tr>\n",
              "  </tbody>\n",
              "</table>\n",
              "</div>\n",
              "      <button class=\"colab-df-convert\" onclick=\"convertToInteractive('df-45fc74c0-875c-402a-8f68-c5477a9d7f99')\"\n",
              "              title=\"Convert this dataframe to an interactive table.\"\n",
              "              style=\"display:none;\">\n",
              "        \n",
              "  <svg xmlns=\"http://www.w3.org/2000/svg\" height=\"24px\"viewBox=\"0 0 24 24\"\n",
              "       width=\"24px\">\n",
              "    <path d=\"M0 0h24v24H0V0z\" fill=\"none\"/>\n",
              "    <path d=\"M18.56 5.44l.94 2.06.94-2.06 2.06-.94-2.06-.94-.94-2.06-.94 2.06-2.06.94zm-11 1L8.5 8.5l.94-2.06 2.06-.94-2.06-.94L8.5 2.5l-.94 2.06-2.06.94zm10 10l.94 2.06.94-2.06 2.06-.94-2.06-.94-.94-2.06-.94 2.06-2.06.94z\"/><path d=\"M17.41 7.96l-1.37-1.37c-.4-.4-.92-.59-1.43-.59-.52 0-1.04.2-1.43.59L10.3 9.45l-7.72 7.72c-.78.78-.78 2.05 0 2.83L4 21.41c.39.39.9.59 1.41.59.51 0 1.02-.2 1.41-.59l7.78-7.78 2.81-2.81c.8-.78.8-2.07 0-2.86zM5.41 20L4 18.59l7.72-7.72 1.47 1.35L5.41 20z\"/>\n",
              "  </svg>\n",
              "      </button>\n",
              "      \n",
              "  <style>\n",
              "    .colab-df-container {\n",
              "      display:flex;\n",
              "      flex-wrap:wrap;\n",
              "      gap: 12px;\n",
              "    }\n",
              "\n",
              "    .colab-df-convert {\n",
              "      background-color: #E8F0FE;\n",
              "      border: none;\n",
              "      border-radius: 50%;\n",
              "      cursor: pointer;\n",
              "      display: none;\n",
              "      fill: #1967D2;\n",
              "      height: 32px;\n",
              "      padding: 0 0 0 0;\n",
              "      width: 32px;\n",
              "    }\n",
              "\n",
              "    .colab-df-convert:hover {\n",
              "      background-color: #E2EBFA;\n",
              "      box-shadow: 0px 1px 2px rgba(60, 64, 67, 0.3), 0px 1px 3px 1px rgba(60, 64, 67, 0.15);\n",
              "      fill: #174EA6;\n",
              "    }\n",
              "\n",
              "    [theme=dark] .colab-df-convert {\n",
              "      background-color: #3B4455;\n",
              "      fill: #D2E3FC;\n",
              "    }\n",
              "\n",
              "    [theme=dark] .colab-df-convert:hover {\n",
              "      background-color: #434B5C;\n",
              "      box-shadow: 0px 1px 3px 1px rgba(0, 0, 0, 0.15);\n",
              "      filter: drop-shadow(0px 1px 2px rgba(0, 0, 0, 0.3));\n",
              "      fill: #FFFFFF;\n",
              "    }\n",
              "  </style>\n",
              "\n",
              "      <script>\n",
              "        const buttonEl =\n",
              "          document.querySelector('#df-45fc74c0-875c-402a-8f68-c5477a9d7f99 button.colab-df-convert');\n",
              "        buttonEl.style.display =\n",
              "          google.colab.kernel.accessAllowed ? 'block' : 'none';\n",
              "\n",
              "        async function convertToInteractive(key) {\n",
              "          const element = document.querySelector('#df-45fc74c0-875c-402a-8f68-c5477a9d7f99');\n",
              "          const dataTable =\n",
              "            await google.colab.kernel.invokeFunction('convertToInteractive',\n",
              "                                                     [key], {});\n",
              "          if (!dataTable) return;\n",
              "\n",
              "          const docLinkHtml = 'Like what you see? Visit the ' +\n",
              "            '<a target=\"_blank\" href=https://colab.research.google.com/notebooks/data_table.ipynb>data table notebook</a>'\n",
              "            + ' to learn more about interactive tables.';\n",
              "          element.innerHTML = '';\n",
              "          dataTable['output_type'] = 'display_data';\n",
              "          await google.colab.output.renderOutput(dataTable, element);\n",
              "          const docLink = document.createElement('div');\n",
              "          docLink.innerHTML = docLinkHtml;\n",
              "          element.appendChild(docLink);\n",
              "        }\n",
              "      </script>\n",
              "    </div>\n",
              "  </div>\n",
              "  "
            ]
          },
          "metadata": {},
          "execution_count": 5
        }
      ]
    },
    {
      "cell_type": "code",
      "source": [
        "# showing total rows and columns \n",
        "\n",
        "df.shape"
      ],
      "metadata": {
        "colab": {
          "base_uri": "https://localhost:8080/"
        },
        "id": "tr6Kn69q1bfP",
        "outputId": "cc1c6f54-c8a9-4ea5-c188-1e5087dc8507"
      },
      "execution_count": null,
      "outputs": [
        {
          "output_type": "execute_result",
          "data": {
            "text/plain": [
              "(149, 3)"
            ]
          },
          "metadata": {},
          "execution_count": 6
        }
      ]
    },
    {
      "cell_type": "code",
      "source": [
        "# printing all columns name\n",
        "\n",
        "df.columns"
      ],
      "metadata": {
        "colab": {
          "base_uri": "https://localhost:8080/"
        },
        "id": "sOHVJS3f2Ft5",
        "outputId": "c0ee9a45-9249-45ab-b65b-af26e36daa59"
      },
      "execution_count": 4,
      "outputs": [
        {
          "output_type": "execute_result",
          "data": {
            "text/plain": [
              "Index(['Batch ', 'User_ID ', '   Score   '], dtype='object')"
            ]
          },
          "metadata": {},
          "execution_count": 4
        }
      ]
    },
    {
      "cell_type": "code",
      "source": [
        "# printing information\n",
        "\n",
        "df.info()"
      ],
      "metadata": {
        "colab": {
          "base_uri": "https://localhost:8080/"
        },
        "id": "SFJh8Q_E1haW",
        "outputId": "e8010118-6c9b-431b-b1e1-8ce809a1af6f"
      },
      "execution_count": null,
      "outputs": [
        {
          "output_type": "stream",
          "name": "stdout",
          "text": [
            "<class 'pandas.core.frame.DataFrame'>\n",
            "RangeIndex: 149 entries, 0 to 148\n",
            "Data columns (total 3 columns):\n",
            " #   Column       Non-Null Count  Dtype \n",
            "---  ------       --------------  ----- \n",
            " 0   Batch        149 non-null    object\n",
            " 1   User_ID      149 non-null    object\n",
            " 2      Score     149 non-null    object\n",
            "dtypes: object(3)\n",
            "memory usage: 3.6+ KB\n"
          ]
        }
      ]
    },
    {
      "cell_type": "code",
      "source": [
        "# Clean the column names \n",
        "\n",
        "df.columns = df.columns.str.replace(' ', '')"
      ],
      "metadata": {
        "id": "9GYxMEBZ2A7L"
      },
      "execution_count": 9,
      "outputs": []
    },
    {
      "cell_type": "code",
      "source": [
        "# printing all columns name\n",
        "\n",
        "df.columns"
      ],
      "metadata": {
        "colab": {
          "base_uri": "https://localhost:8080/"
        },
        "id": "l7eO0OUg2KMH",
        "outputId": "e97c36c7-05ac-411f-871c-d1d9481d6bd1"
      },
      "execution_count": null,
      "outputs": [
        {
          "output_type": "execute_result",
          "data": {
            "text/plain": [
              "Index(['Batch', 'User_ID', 'Score'], dtype='object')"
            ]
          },
          "metadata": {},
          "execution_count": 25
        }
      ]
    },
    {
      "cell_type": "code",
      "source": [
        "print(\"Printing unique values of each column\")\n",
        "for i in df.columns[:]:\n",
        "  print(\"*\"*70)\n",
        "  print(\"number of unique values of \",i,\" column :\",df[i].nunique())\n",
        "  print(\"unique values:\")\n",
        "  print(df[i].unique())"
      ],
      "metadata": {
        "colab": {
          "base_uri": "https://localhost:8080/"
        },
        "id": "CB4kYtuI460a",
        "outputId": "7f3a5d54-dd88-4753-957a-897d037e27fc"
      },
      "execution_count": 6,
      "outputs": [
        {
          "output_type": "stream",
          "name": "stdout",
          "text": [
            "Printing unique values of each column\n",
            "**********************************************************************\n",
            "number of unique values of  Batch  column : 3\n",
            "unique values:\n",
            "['AI_ELITE_7' 'AI_ELITE_6' 'AI_ELITE_4']\n",
            "**********************************************************************\n",
            "number of unique values of  User_ID  column : 149\n",
            "unique values:\n",
            "['uid_149' 'uid_148' 'uid_147' 'uid_146' 'uid_145' 'uid_144' 'uid_143'\n",
            " 'uid_142' 'uid_141' 'uid_140' 'uid_139' 'uid_138' 'uid_137' 'uid_136'\n",
            " 'uid_135' 'uid_134' 'uid_133' 'uid_132' 'uid_131' 'uid_130' 'uid_129'\n",
            " 'uid_128' 'uid_127' 'uid_126' 'uid_125' 'uid_124' 'uid_123' 'uid_122'\n",
            " 'uid_121' 'uid_120' 'uid_119' 'uid_118' 'uid_117' 'uid_116' 'uid_115'\n",
            " 'uid_114' 'uid_113' 'uid_112' 'uid_111' 'uid_110' 'uid_109' 'uid_108'\n",
            " 'uid_107' 'uid_106' 'uid_105' 'uid_104' 'uid_103' 'uid_102' 'uid_101'\n",
            " 'uid_100' 'uid_99' 'uid_98' 'uid_97' 'uid_96' 'uid_95' 'uid_94' 'uid_93'\n",
            " 'uid_92' 'uid_91' 'uid_90' 'uid_89' 'uid_88' 'uid_87' 'uid_86' 'uid_85'\n",
            " 'uid_84' 'uid_83' 'uid_82' 'uid_81' 'uid_80' 'uid_79' 'uid_78' 'uid_77'\n",
            " 'uid_76' 'uid_75' 'uid_74' 'uid_73' 'uid_72' 'uid_71' 'uid_70' 'uid_69'\n",
            " 'uid_68' 'uid_67' 'uid_66' 'uid_65' 'uid_64' 'uid_63' 'uid_62' 'uid_61'\n",
            " 'uid_60' 'uid_59' 'uid_58' 'uid_57' 'uid_56' 'uid_55' 'uid_54' 'uid_53'\n",
            " 'uid_52' 'uid_51' 'uid_50' 'uid_49' 'uid_48' 'uid_47' 'uid_46' 'uid_45'\n",
            " 'uid_44' 'uid_43' 'uid_42' 'uid_41' 'uid_40' 'uid_39' 'uid_38' 'uid_37'\n",
            " 'uid_36' 'uid_35' 'uid_34' 'uid_33' 'uid_32' 'uid_31' 'uid_30' 'uid_29'\n",
            " 'uid_28' 'uid_27' 'uid_26' 'uid_25' 'uid_24' 'uid_23' 'uid_22' 'uid_21'\n",
            " 'uid_20' 'uid_19' 'uid_18' 'uid_17' 'uid_16' 'uid_15' 'uid_14' 'uid_13'\n",
            " 'uid_12' 'uid_11' 'uid_10' 'uid_9' 'uid_8' 'uid_7' 'uid_6' 'uid_5'\n",
            " 'uid_4' 'uid_3' 'uid_2' 'uid_1']\n",
            "**********************************************************************\n",
            "number of unique values of  Score  column : 8\n",
            "unique values:\n",
            "['6 / 7' '7 / 7' '4 / 7' '5 / 7' '3 / 7' '2 / 7' '0 / 7' '1 / 7']\n"
          ]
        }
      ]
    },
    {
      "cell_type": "code",
      "source": [
        "# take only numerator components of the Score column\n",
        "df['Score'] = df['Score'].str.split('/').str[0]\n"
      ],
      "metadata": {
        "id": "3MCqzEee4bCi"
      },
      "execution_count": 10,
      "outputs": []
    },
    {
      "cell_type": "code",
      "source": [
        "df"
      ],
      "metadata": {
        "colab": {
          "base_uri": "https://localhost:8080/",
          "height": 423
        },
        "id": "OY_-u8875qOp",
        "outputId": "f9beafe3-baac-4021-e263-ab6ddde460e6"
      },
      "execution_count": 8,
      "outputs": [
        {
          "output_type": "execute_result",
          "data": {
            "text/plain": [
              "          Batch  User_ID Score\n",
              "0    AI_ELITE_7  uid_149    6 \n",
              "1    AI_ELITE_7  uid_148    6 \n",
              "2    AI_ELITE_7  uid_147    7 \n",
              "3    AI_ELITE_7  uid_146    7 \n",
              "4    AI_ELITE_7  uid_145    4 \n",
              "..          ...      ...   ...\n",
              "144  AI_ELITE_4    uid_5    4 \n",
              "145  AI_ELITE_4    uid_4    4 \n",
              "146  AI_ELITE_4    uid_3    4 \n",
              "147  AI_ELITE_4    uid_2    3 \n",
              "148  AI_ELITE_4    uid_1    2 \n",
              "\n",
              "[149 rows x 3 columns]"
            ],
            "text/html": [
              "\n",
              "  <div id=\"df-ddfccabe-7368-43f2-b1bf-e22cd78c9f64\">\n",
              "    <div class=\"colab-df-container\">\n",
              "      <div>\n",
              "<style scoped>\n",
              "    .dataframe tbody tr th:only-of-type {\n",
              "        vertical-align: middle;\n",
              "    }\n",
              "\n",
              "    .dataframe tbody tr th {\n",
              "        vertical-align: top;\n",
              "    }\n",
              "\n",
              "    .dataframe thead th {\n",
              "        text-align: right;\n",
              "    }\n",
              "</style>\n",
              "<table border=\"1\" class=\"dataframe\">\n",
              "  <thead>\n",
              "    <tr style=\"text-align: right;\">\n",
              "      <th></th>\n",
              "      <th>Batch</th>\n",
              "      <th>User_ID</th>\n",
              "      <th>Score</th>\n",
              "    </tr>\n",
              "  </thead>\n",
              "  <tbody>\n",
              "    <tr>\n",
              "      <th>0</th>\n",
              "      <td>AI_ELITE_7</td>\n",
              "      <td>uid_149</td>\n",
              "      <td>6</td>\n",
              "    </tr>\n",
              "    <tr>\n",
              "      <th>1</th>\n",
              "      <td>AI_ELITE_7</td>\n",
              "      <td>uid_148</td>\n",
              "      <td>6</td>\n",
              "    </tr>\n",
              "    <tr>\n",
              "      <th>2</th>\n",
              "      <td>AI_ELITE_7</td>\n",
              "      <td>uid_147</td>\n",
              "      <td>7</td>\n",
              "    </tr>\n",
              "    <tr>\n",
              "      <th>3</th>\n",
              "      <td>AI_ELITE_7</td>\n",
              "      <td>uid_146</td>\n",
              "      <td>7</td>\n",
              "    </tr>\n",
              "    <tr>\n",
              "      <th>4</th>\n",
              "      <td>AI_ELITE_7</td>\n",
              "      <td>uid_145</td>\n",
              "      <td>4</td>\n",
              "    </tr>\n",
              "    <tr>\n",
              "      <th>...</th>\n",
              "      <td>...</td>\n",
              "      <td>...</td>\n",
              "      <td>...</td>\n",
              "    </tr>\n",
              "    <tr>\n",
              "      <th>144</th>\n",
              "      <td>AI_ELITE_4</td>\n",
              "      <td>uid_5</td>\n",
              "      <td>4</td>\n",
              "    </tr>\n",
              "    <tr>\n",
              "      <th>145</th>\n",
              "      <td>AI_ELITE_4</td>\n",
              "      <td>uid_4</td>\n",
              "      <td>4</td>\n",
              "    </tr>\n",
              "    <tr>\n",
              "      <th>146</th>\n",
              "      <td>AI_ELITE_4</td>\n",
              "      <td>uid_3</td>\n",
              "      <td>4</td>\n",
              "    </tr>\n",
              "    <tr>\n",
              "      <th>147</th>\n",
              "      <td>AI_ELITE_4</td>\n",
              "      <td>uid_2</td>\n",
              "      <td>3</td>\n",
              "    </tr>\n",
              "    <tr>\n",
              "      <th>148</th>\n",
              "      <td>AI_ELITE_4</td>\n",
              "      <td>uid_1</td>\n",
              "      <td>2</td>\n",
              "    </tr>\n",
              "  </tbody>\n",
              "</table>\n",
              "<p>149 rows × 3 columns</p>\n",
              "</div>\n",
              "      <button class=\"colab-df-convert\" onclick=\"convertToInteractive('df-ddfccabe-7368-43f2-b1bf-e22cd78c9f64')\"\n",
              "              title=\"Convert this dataframe to an interactive table.\"\n",
              "              style=\"display:none;\">\n",
              "        \n",
              "  <svg xmlns=\"http://www.w3.org/2000/svg\" height=\"24px\"viewBox=\"0 0 24 24\"\n",
              "       width=\"24px\">\n",
              "    <path d=\"M0 0h24v24H0V0z\" fill=\"none\"/>\n",
              "    <path d=\"M18.56 5.44l.94 2.06.94-2.06 2.06-.94-2.06-.94-.94-2.06-.94 2.06-2.06.94zm-11 1L8.5 8.5l.94-2.06 2.06-.94-2.06-.94L8.5 2.5l-.94 2.06-2.06.94zm10 10l.94 2.06.94-2.06 2.06-.94-2.06-.94-.94-2.06-.94 2.06-2.06.94z\"/><path d=\"M17.41 7.96l-1.37-1.37c-.4-.4-.92-.59-1.43-.59-.52 0-1.04.2-1.43.59L10.3 9.45l-7.72 7.72c-.78.78-.78 2.05 0 2.83L4 21.41c.39.39.9.59 1.41.59.51 0 1.02-.2 1.41-.59l7.78-7.78 2.81-2.81c.8-.78.8-2.07 0-2.86zM5.41 20L4 18.59l7.72-7.72 1.47 1.35L5.41 20z\"/>\n",
              "  </svg>\n",
              "      </button>\n",
              "      \n",
              "  <style>\n",
              "    .colab-df-container {\n",
              "      display:flex;\n",
              "      flex-wrap:wrap;\n",
              "      gap: 12px;\n",
              "    }\n",
              "\n",
              "    .colab-df-convert {\n",
              "      background-color: #E8F0FE;\n",
              "      border: none;\n",
              "      border-radius: 50%;\n",
              "      cursor: pointer;\n",
              "      display: none;\n",
              "      fill: #1967D2;\n",
              "      height: 32px;\n",
              "      padding: 0 0 0 0;\n",
              "      width: 32px;\n",
              "    }\n",
              "\n",
              "    .colab-df-convert:hover {\n",
              "      background-color: #E2EBFA;\n",
              "      box-shadow: 0px 1px 2px rgba(60, 64, 67, 0.3), 0px 1px 3px 1px rgba(60, 64, 67, 0.15);\n",
              "      fill: #174EA6;\n",
              "    }\n",
              "\n",
              "    [theme=dark] .colab-df-convert {\n",
              "      background-color: #3B4455;\n",
              "      fill: #D2E3FC;\n",
              "    }\n",
              "\n",
              "    [theme=dark] .colab-df-convert:hover {\n",
              "      background-color: #434B5C;\n",
              "      box-shadow: 0px 1px 3px 1px rgba(0, 0, 0, 0.15);\n",
              "      filter: drop-shadow(0px 1px 2px rgba(0, 0, 0, 0.3));\n",
              "      fill: #FFFFFF;\n",
              "    }\n",
              "  </style>\n",
              "\n",
              "      <script>\n",
              "        const buttonEl =\n",
              "          document.querySelector('#df-ddfccabe-7368-43f2-b1bf-e22cd78c9f64 button.colab-df-convert');\n",
              "        buttonEl.style.display =\n",
              "          google.colab.kernel.accessAllowed ? 'block' : 'none';\n",
              "\n",
              "        async function convertToInteractive(key) {\n",
              "          const element = document.querySelector('#df-ddfccabe-7368-43f2-b1bf-e22cd78c9f64');\n",
              "          const dataTable =\n",
              "            await google.colab.kernel.invokeFunction('convertToInteractive',\n",
              "                                                     [key], {});\n",
              "          if (!dataTable) return;\n",
              "\n",
              "          const docLinkHtml = 'Like what you see? Visit the ' +\n",
              "            '<a target=\"_blank\" href=https://colab.research.google.com/notebooks/data_table.ipynb>data table notebook</a>'\n",
              "            + ' to learn more about interactive tables.';\n",
              "          element.innerHTML = '';\n",
              "          dataTable['output_type'] = 'display_data';\n",
              "          await google.colab.output.renderOutput(dataTable, element);\n",
              "          const docLink = document.createElement('div');\n",
              "          docLink.innerHTML = docLinkHtml;\n",
              "          element.appendChild(docLink);\n",
              "        }\n",
              "      </script>\n",
              "    </div>\n",
              "  </div>\n",
              "  "
            ]
          },
          "metadata": {},
          "execution_count": 8
        }
      ]
    },
    {
      "cell_type": "code",
      "source": [
        "df['Score'] = df['Score'].astype('int')\n",
        "\n",
        "df.info()"
      ],
      "metadata": {
        "colab": {
          "base_uri": "https://localhost:8080/"
        },
        "id": "k0_Ak-H46R52",
        "outputId": "d2970c10-097e-46e9-b670-2ccfdb42d8e2"
      },
      "execution_count": 11,
      "outputs": [
        {
          "output_type": "stream",
          "name": "stdout",
          "text": [
            "<class 'pandas.core.frame.DataFrame'>\n",
            "RangeIndex: 149 entries, 0 to 148\n",
            "Data columns (total 3 columns):\n",
            " #   Column   Non-Null Count  Dtype \n",
            "---  ------   --------------  ----- \n",
            " 0   Batch    149 non-null    object\n",
            " 1   User_ID  149 non-null    object\n",
            " 2   Score    149 non-null    int64 \n",
            "dtypes: int64(1), object(2)\n",
            "memory usage: 3.6+ KB\n"
          ]
        }
      ]
    },
    {
      "cell_type": "code",
      "source": [
        "df.isnull().sum().sort_values(ascending=False)"
      ],
      "metadata": {
        "colab": {
          "base_uri": "https://localhost:8080/"
        },
        "id": "tjM2lCLU9o-8",
        "outputId": "d4020e13-99b3-4332-bbf1-7723f4e2e5ea"
      },
      "execution_count": 10,
      "outputs": [
        {
          "output_type": "execute_result",
          "data": {
            "text/plain": [
              "Batch      0\n",
              "User_ID    0\n",
              "Score      0\n",
              "dtype: int64"
            ]
          },
          "metadata": {},
          "execution_count": 10
        }
      ]
    },
    {
      "cell_type": "markdown",
      "source": [
        "#Analysis Score feature taking complete data"
      ],
      "metadata": {
        "id": "qsIIUWJpDcVc"
      }
    },
    {
      "cell_type": "code",
      "source": [
        "# On average what is the Score\n",
        "\n",
        "print(\"Average Score is \",df['Score'].mean())"
      ],
      "metadata": {
        "colab": {
          "base_uri": "https://localhost:8080/"
        },
        "id": "djUq8YlI_Bqf",
        "outputId": "6c02a6e6-6736-4a4e-ff8d-eb0b69c183b3"
      },
      "execution_count": 11,
      "outputs": [
        {
          "output_type": "stream",
          "name": "stdout",
          "text": [
            "Average Score is  4.382550335570469\n"
          ]
        }
      ]
    },
    {
      "cell_type": "code",
      "source": [
        "print(\"Min Score is \",df['Score'].min())\n",
        "\n",
        "print('Max is ',df['Score'].max())"
      ],
      "metadata": {
        "colab": {
          "base_uri": "https://localhost:8080/"
        },
        "id": "c8vMGgd0_Y6H",
        "outputId": "770c5773-e404-402a-ad5d-fed6c934787f"
      },
      "execution_count": 12,
      "outputs": [
        {
          "output_type": "stream",
          "name": "stdout",
          "text": [
            "Min Score is  0\n",
            "Max is  7\n"
          ]
        }
      ]
    },
    {
      "cell_type": "code",
      "source": [
        "print('Standard deviation of Score is ',df['Score'].std())"
      ],
      "metadata": {
        "colab": {
          "base_uri": "https://localhost:8080/"
        },
        "id": "KfUXHFsV_5wV",
        "outputId": "789c36d7-6869-4849-9a2a-d96d2f6a96b7"
      },
      "execution_count": null,
      "outputs": [
        {
          "output_type": "stream",
          "name": "stdout",
          "text": [
            "Standard deviation of Score is  1.5921993773540133\n"
          ]
        }
      ]
    },
    {
      "cell_type": "code",
      "source": [
        "print('Median value of Score is ',df['Score'].median())"
      ],
      "metadata": {
        "colab": {
          "base_uri": "https://localhost:8080/"
        },
        "id": "jgEeCTF1AFWp",
        "outputId": "efc12d25-b4f2-429e-8475-f3eedad1e467"
      },
      "execution_count": null,
      "outputs": [
        {
          "output_type": "stream",
          "name": "stdout",
          "text": [
            "Median value of Score is  4.0\n"
          ]
        }
      ]
    },
    {
      "cell_type": "code",
      "source": [
        "q1=df['Score'].quantile(0.25)\n",
        "print(\"25th quartile value is \",q1)\n",
        "q3=df['Score'].quantile(0.75)\n",
        "print(\"75th quartile value is \",q3)"
      ],
      "metadata": {
        "colab": {
          "base_uri": "https://localhost:8080/"
        },
        "id": "ZeZ1K1FtAOzK",
        "outputId": "4a261cc8-94a7-4791-c592-9f78cca87271"
      },
      "execution_count": null,
      "outputs": [
        {
          "output_type": "stream",
          "name": "stdout",
          "text": [
            "25th quartile value is  3.0\n",
            "75th quartile value is  5.0\n"
          ]
        }
      ]
    },
    {
      "cell_type": "code",
      "source": [
        "IQR = q3 - q1\n",
        "IQR"
      ],
      "metadata": {
        "colab": {
          "base_uri": "https://localhost:8080/"
        },
        "id": "yD7nWHFQCHpQ",
        "outputId": "ca764f6b-25c7-4919-b2da-84b049432729"
      },
      "execution_count": null,
      "outputs": [
        {
          "output_type": "execute_result",
          "data": {
            "text/plain": [
              "2.0"
            ]
          },
          "metadata": {},
          "execution_count": 49
        }
      ]
    },
    {
      "cell_type": "code",
      "source": [
        "# Detection of Outlier\n",
        "\n",
        "df['Score'].plot(kind='box')"
      ],
      "metadata": {
        "colab": {
          "base_uri": "https://localhost:8080/",
          "height": 282
        },
        "id": "3Mw0DDLsAoiZ",
        "outputId": "6a34264b-6a8e-4dfb-bd9d-d1a6fd4a9397"
      },
      "execution_count": null,
      "outputs": [
        {
          "output_type": "execute_result",
          "data": {
            "text/plain": [
              "<Axes: >"
            ]
          },
          "metadata": {},
          "execution_count": 44
        },
        {
          "output_type": "display_data",
          "data": {
            "text/plain": [
              "<Figure size 432x288 with 1 Axes>"
            ],
            "image/png": "[encoded data removed]"
          },
          "metadata": {
            "needs_background": "light"
          }
        }
      ]
    },
    {
      "cell_type": "code",
      "source": [
        "df['Score'].plot(kind='kde')"
      ],
      "metadata": {
        "colab": {
          "base_uri": "https://localhost:8080/",
          "height": 282
        },
        "id": "KNA1xZzwA2Tw",
        "outputId": "794afb53-b8b8-4f07-c0c0-678e750e8c20"
      },
      "execution_count": null,
      "outputs": [
        {
          "output_type": "execute_result",
          "data": {
            "text/plain": [
              "<Axes: ylabel='Density'>"
            ]
          },
          "metadata": {},
          "execution_count": 45
        },
        {
          "output_type": "display_data",
          "data": {
            "text/plain": [
              "<Figure size 432x288 with 1 Axes>"
            ],
            "image/png": "[encoded data removed]"
          },
          "metadata": {
            "needs_background": "light"
          }
        }
      ]
    },
    {
      "cell_type": "markdown",
      "source": [
        "#Analysis Score feature taking individual batch"
      ],
      "metadata": {
        "id": "_GTrF4KcDfVp"
      }
    },
    {
      "cell_type": "code",
      "source": [
        "df.shape"
      ],
      "metadata": {
        "colab": {
          "base_uri": "https://localhost:8080/"
        },
        "id": "KQSyIue9EOA4",
        "outputId": "5550e1f0-0b18-4449-8424-4687a96573c3"
      },
      "execution_count": null,
      "outputs": [
        {
          "output_type": "execute_result",
          "data": {
            "text/plain": [
              "(149, 3)"
            ]
          },
          "metadata": {},
          "execution_count": 65
        }
      ]
    },
    {
      "cell_type": "code",
      "source": [
        "df_elite7 = df[df['Batch'] == 'AI_ELITE_7']"
      ],
      "metadata": {
        "id": "A6vWqUriDV2e"
      },
      "execution_count": null,
      "outputs": []
    },
    {
      "cell_type": "code",
      "source": [
        "df_elite7.shape"
      ],
      "metadata": {
        "colab": {
          "base_uri": "https://localhost:8080/"
        },
        "id": "vMlRifxyEKGP",
        "outputId": "ca650b3a-2290-4b1f-e1b8-826d69389321"
      },
      "execution_count": null,
      "outputs": [
        {
          "output_type": "execute_result",
          "data": {
            "text/plain": [
              "(53, 3)"
            ]
          },
          "metadata": {},
          "execution_count": 67
        }
      ]
    },
    {
      "cell_type": "code",
      "source": [
        "df_elite6 = df[df['Batch'] == 'AI_ELITE_6']"
      ],
      "metadata": {
        "id": "NnTWY9PLEBVS"
      },
      "execution_count": null,
      "outputs": []
    },
    {
      "cell_type": "code",
      "source": [
        "df_elite6.shape"
      ],
      "metadata": {
        "colab": {
          "base_uri": "https://localhost:8080/"
        },
        "id": "wycbpC8PETOc",
        "outputId": "248a8367-3709-4e74-a7a4-c23b30eeee7d"
      },
      "execution_count": null,
      "outputs": [
        {
          "output_type": "execute_result",
          "data": {
            "text/plain": [
              "(48, 3)"
            ]
          },
          "metadata": {},
          "execution_count": 69
        }
      ]
    },
    {
      "cell_type": "code",
      "source": [
        "df_elite4 = df[df['Batch'] == 'AI_ELITE_4']"
      ],
      "metadata": {
        "id": "VK2Y1jJKEbBF"
      },
      "execution_count": null,
      "outputs": []
    },
    {
      "cell_type": "code",
      "source": [
        "df_elite4.shape"
      ],
      "metadata": {
        "colab": {
          "base_uri": "https://localhost:8080/"
        },
        "id": "pC_RMAuaEieC",
        "outputId": "3f2b9230-7f62-4de9-9cd9-5f8126f1d590"
      },
      "execution_count": null,
      "outputs": [
        {
          "output_type": "execute_result",
          "data": {
            "text/plain": [
              "(48, 3)"
            ]
          },
          "metadata": {},
          "execution_count": 71
        }
      ]
    },
    {
      "cell_type": "code",
      "source": [],
      "metadata": {
        "id": "q_w_EEAqEzlB"
      },
      "execution_count": null,
      "outputs": []
    },
    {
      "cell_type": "markdown",
      "source": [
        "Analysis Score feature taking batch AI_ELITE_7"
      ],
      "metadata": {
        "id": "LY-b99P0HbXH"
      }
    },
    {
      "cell_type": "code",
      "source": [
        "\n",
        "\n",
        "print(\"Average Score is \",df_elite7['Score'].mean())\n",
        "\n",
        "print(\"Min Score is \",df_elite7['Score'].min())\n",
        "\n",
        "print('Max is ',df_elite7['Score'].max())\n",
        "\n",
        "print('Standard deviation of Score is ',df_elite7['Score'].std())\n",
        "\n",
        "print('Median value of Score is ',df_elite7['Score'].median())\n",
        "\n",
        "q1=df_elite7['Score'].quantile(0.25)\n",
        "print(\"25th quartile value is \",q1)\n",
        "q3=df_elite7['Score'].quantile(0.75)\n",
        "print(\"75th quartile value is \",q3)\n",
        "\n",
        "IQR = q3 - q1\n",
        "print(\"IQR VALUE IS \",IQR)\n",
        "\n",
        "\n",
        "\n",
        "\n",
        "# Detection of Outlier\n",
        "\n",
        "df_elite7['Score'].plot(kind='box')\n",
        "\n",
        "score_counts = df_elite7[\"Score\"].value_counts()\n",
        "print(\"Count of rows with indivdual scores\",score_counts)"
      ],
      "metadata": {
        "colab": {
          "base_uri": "https://localhost:8080/",
          "height": 525
        },
        "outputId": "8d61299f-21ad-40c6-c228-717f3fe582ef",
        "id": "2UGRxTbDE1FR"
      },
      "execution_count": null,
      "outputs": [
        {
          "output_type": "stream",
          "name": "stdout",
          "text": [
            "Average Score is  5.056603773584905\n",
            "Min Score is  2\n",
            "Max is  7\n",
            "Standard deviation of Score is  1.4466818046245138\n",
            "Median value of Score is  5.0\n",
            "25th quartile value is  4.0\n",
            "75th quartile value is  6.0\n",
            "IQR VALUE IS  2.0\n",
            "Count of rows with indivdual scores 6    13\n",
            "5    11\n",
            "7    10\n",
            "4    10\n",
            "3     7\n",
            "2     2\n",
            "Name: Score, dtype: int64\n"
          ]
        },
        {
          "output_type": "display_data",
          "data": {
            "text/plain": [
              "<Figure size 432x288 with 1 Axes>"
            ],
            "image/png": "[encoded data removed]"
          },
          "metadata": {
            "needs_background": "light"
          }
        }
      ]
    },
    {
      "cell_type": "code",
      "source": [
        "df_elite7['Score'].plot(kind='kde')\n",
        "score_counts = df_elite7[\"Score\"].value_counts()\n",
        "print(score_counts)"
      ],
      "metadata": {
        "colab": {
          "base_uri": "https://localhost:8080/",
          "height": 386
        },
        "id": "sfFMVGJvOsU1",
        "outputId": "1df1744e-c060-4d2d-86c1-6f3413bb5ca5"
      },
      "execution_count": null,
      "outputs": [
        {
          "output_type": "stream",
          "name": "stdout",
          "text": [
            "6    13\n",
            "5    11\n",
            "7    10\n",
            "4    10\n",
            "3     7\n",
            "2     2\n",
            "Name: Score, dtype: int64\n"
          ]
        },
        {
          "output_type": "display_data",
          "data": {
            "text/plain": [
              "<Figure size 432x288 with 1 Axes>"
            ],
            "image/png": "[encoded data removed]"
          },
          "metadata": {
            "needs_background": "light"
          }
        }
      ]
    },
    {
      "cell_type": "code",
      "source": [
        "df_elite7['Score'].plot(kind='hist')\n"
      ],
      "metadata": {
        "colab": {
          "base_uri": "https://localhost:8080/",
          "height": 282
        },
        "id": "5dz32qjYnlim",
        "outputId": "5d04ee21-2238-461f-a461-cf34c8b67fcb"
      },
      "execution_count": null,
      "outputs": [
        {
          "output_type": "execute_result",
          "data": {
            "text/plain": [
              "<Axes: ylabel='Frequency'>"
            ]
          },
          "metadata": {},
          "execution_count": 99
        },
        {
          "output_type": "display_data",
          "data": {
            "text/plain": [
              "<Figure size 432x288 with 1 Axes>"
            ],
            "image/png": "[encoded data removed]"
          },
          "metadata": {
            "needs_background": "light"
          }
        }
      ]
    },
    {
      "cell_type": "markdown",
      "source": [
        "Analysis Score feature taking batch AI_ELITE_6"
      ],
      "metadata": {
        "id": "25U1M__XIsY6"
      }
    },
    {
      "cell_type": "code",
      "source": [
        "\n",
        "\n",
        "print(\"Average Score is \",df_elite6['Score'].mean())\n",
        "\n",
        "print(\"Min Score is \",df_elite6['Score'].min())\n",
        "\n",
        "print('Max is ',df_elite6['Score'].max())\n",
        "\n",
        "print('Standard deviation of Score is ',df_elite6['Score'].std())\n",
        "\n",
        "print('Median value of Score is ',df_elite6['Score'].median())\n",
        "\n",
        "q1=df_elite6['Score'].quantile(0.25)\n",
        "print(\"25th quartile value is \",q1)\n",
        "q3=df_elite6['Score'].quantile(0.75)\n",
        "print(\"75th quartile value is \",q3)\n",
        "\n",
        "IQR = q3 - q1\n",
        "print(\"IQR VALUE IS \",IQR)\n",
        "\n",
        "# Detection of Outlier\n",
        "\n",
        "df_elite6['Score'].plot(kind='box')\n"
      ],
      "metadata": {
        "colab": {
          "base_uri": "https://localhost:8080/",
          "height": 560
        },
        "id": "NYMqJZuqIrul",
        "outputId": "06e0f331-437c-44e9-a556-5481047ab383"
      },
      "execution_count": null,
      "outputs": [
        {
          "output_type": "stream",
          "name": "stdout",
          "text": [
            "Average Score is  4.229166666666667\n",
            "Min Score is  0\n",
            "Max is  7\n",
            "Standard deviation of Score is  1.6404408246842614\n",
            "Median value of Score is  4.0\n",
            "25th quartile value is  3.0\n",
            "75th quartile value is  5.0\n",
            "IQR VALUE IS  2.0\n",
            "Count of rows with indivdual scores 5    13\n",
            "4    11\n",
            "3     9\n",
            "7     5\n",
            "6     4\n",
            "2     3\n",
            "1     2\n",
            "0     1\n",
            "Name: Score, dtype: int64\n"
          ]
        },
        {
          "output_type": "display_data",
          "data": {
            "text/plain": [
              "<Figure size 432x288 with 1 Axes>"
            ],
            "image/png": "[encoded data removed]"
          },
          "metadata": {
            "needs_background": "light"
          }
        }
      ]
    },
    {
      "cell_type": "code",
      "source": [
        "df_elite6['Score'].plot(kind='kde')\n",
        "score_counts = df_elite6[\"Score\"].value_counts()\n",
        "print(score_counts)"
      ],
      "metadata": {
        "colab": {
          "base_uri": "https://localhost:8080/",
          "height": 421
        },
        "id": "5aoBGZkWOPPY",
        "outputId": "950cb802-3847-44dd-996e-b191f465da36"
      },
      "execution_count": null,
      "outputs": [
        {
          "output_type": "stream",
          "name": "stdout",
          "text": [
            "5    13\n",
            "4    11\n",
            "3     9\n",
            "7     5\n",
            "6     4\n",
            "2     3\n",
            "1     2\n",
            "0     1\n",
            "Name: Score, dtype: int64\n"
          ]
        },
        {
          "output_type": "display_data",
          "data": {
            "text/plain": [
              "<Figure size 432x288 with 1 Axes>"
            ],
            "image/png": "[encoded data removed]"
          },
          "metadata": {
            "needs_background": "light"
          }
        }
      ]
    },
    {
      "cell_type": "code",
      "source": [
        "df_elite6['Score'].plot(kind='hist')\n"
      ],
      "metadata": {
        "colab": {
          "base_uri": "https://localhost:8080/",
          "height": 282
        },
        "id": "jxLQ99SinZBt",
        "outputId": "8711355e-e9ef-4a55-aa27-f5e61ea44a34"
      },
      "execution_count": null,
      "outputs": [
        {
          "output_type": "execute_result",
          "data": {
            "text/plain": [
              "<Axes: ylabel='Frequency'>"
            ]
          },
          "metadata": {},
          "execution_count": 98
        },
        {
          "output_type": "display_data",
          "data": {
            "text/plain": [
              "<Figure size 432x288 with 1 Axes>"
            ],
            "image/png": "[encoded data removed]"
          },
          "metadata": {
            "needs_background": "light"
          }
        }
      ]
    },
    {
      "cell_type": "markdown",
      "source": [
        "Analysis Score feature taking batch AI_ELITE_4"
      ],
      "metadata": {
        "id": "8gzDbL6CI-TV"
      }
    },
    {
      "cell_type": "code",
      "source": [
        "\n",
        "\n",
        "print(\"Average Score is \",df_elite4['Score'].mean())\n",
        "\n",
        "print(\"Min Score is \",df_elite4['Score'].min())\n",
        "\n",
        "print('Max is ',df_elite4['Score'].max())\n",
        "\n",
        "print('Standard deviation of Score is ',df_elite4['Score'].std())\n",
        "\n",
        "print('Median value of Score is ',df_elite4['Score'].median())\n",
        "\n",
        "q1=df_elite4['Score'].quantile(0.25)\n",
        "print(\"25th quartile value is \",q1)\n",
        "q3=df_elite4['Score'].quantile(0.75)\n",
        "print(\"75th quartile value is \",q3)\n",
        "\n",
        "IQR = q3 - q1\n",
        "print(\"IQR VALUE IS \",IQR)\n",
        "\n",
        "# Detection of Outlier\n",
        "\n",
        "df_elite4['Score'].plot(kind='box')\n",
        "\n"
      ],
      "metadata": {
        "colab": {
          "base_uri": "https://localhost:8080/",
          "height": 421
        },
        "id": "WFGZCslnI7Gt",
        "outputId": "a3537d92-43b5-40bc-eabc-708b1bdff18e"
      },
      "execution_count": null,
      "outputs": [
        {
          "output_type": "stream",
          "name": "stdout",
          "text": [
            "Average Score is  3.7916666666666665\n",
            "Min Score is  0\n",
            "Max is  7\n",
            "Standard deviation of Score is  1.4433756729740643\n",
            "Median value of Score is  4.0\n",
            "25th quartile value is  3.0\n",
            "75th quartile value is  4.25\n",
            "IQR VALUE IS  1.25\n"
          ]
        },
        {
          "output_type": "execute_result",
          "data": {
            "text/plain": [
              "<Axes: >"
            ]
          },
          "metadata": {},
          "execution_count": 78
        },
        {
          "output_type": "display_data",
          "data": {
            "text/plain": [
              "<Figure size 432x288 with 1 Axes>"
            ],
            "image/png": "[encoded data removed]"
          },
          "metadata": {
            "needs_background": "light"
          }
        }
      ]
    },
    {
      "cell_type": "code",
      "source": [
        "df_elite4['Score'].plot(kind='kde')\n",
        "score_counts = df_elite4[\"Score\"].value_counts()\n",
        "print(score_counts)"
      ],
      "metadata": {
        "colab": {
          "base_uri": "https://localhost:8080/",
          "height": 421
        },
        "id": "529j0QgTJPVo",
        "outputId": "c061e966-7c76-40b0-a354-592faa78b7c4"
      },
      "execution_count": null,
      "outputs": [
        {
          "output_type": "stream",
          "name": "stdout",
          "text": [
            "4    19\n",
            "5     8\n",
            "3     8\n",
            "2     7\n",
            "7     3\n",
            "6     1\n",
            "1     1\n",
            "0     1\n",
            "Name: Score, dtype: int64\n"
          ]
        },
        {
          "output_type": "display_data",
          "data": {
            "text/plain": [
              "<Figure size 432x288 with 1 Axes>"
            ],
            "image/png": "[encoded data removed]"
          },
          "metadata": {
            "needs_background": "light"
          }
        }
      ]
    },
    {
      "cell_type": "code",
      "source": [
        "df_elite4['Score'].plot(kind='hist')\n"
      ],
      "metadata": {
        "colab": {
          "base_uri": "https://localhost:8080/",
          "height": 421
        },
        "id": "SOS27UH6nLR2",
        "outputId": "124d4637-e4b5-47c0-e345-a53c8a06c5c7"
      },
      "execution_count": null,
      "outputs": [
        {
          "output_type": "stream",
          "name": "stdout",
          "text": [
            "4    19\n",
            "5     8\n",
            "3     8\n",
            "2     7\n",
            "7     3\n",
            "6     1\n",
            "1     1\n",
            "0     1\n",
            "Name: Score, dtype: int64\n"
          ]
        },
        {
          "output_type": "display_data",
          "data": {
            "text/plain": [
              "<Figure size 432x288 with 1 Axes>"
            ],
            "image/png": "[encoded data removed]"
          },
          "metadata": {
            "needs_background": "light"
          }
        }
      ]
    },
    {
      "cell_type": "markdown",
      "source": [
        "bivariate analysis"
      ],
      "metadata": {
        "id": "voigkCAP3-35"
      }
    },
    {
      "cell_type": "code",
      "source": [
        "df['Score'].value_counts().plot(kind='bar')"
      ],
      "metadata": {
        "colab": {
          "base_uri": "https://localhost:8080/",
          "height": 279
        },
        "id": "fuKJ6VZT4Bmt",
        "outputId": "064d28af-9ed1-43c1-8f13-fef1b1fc4382"
      },
      "execution_count": 12,
      "outputs": [
        {
          "output_type": "execute_result",
          "data": {
            "text/plain": [
              "<Axes: >"
            ]
          },
          "metadata": {},
          "execution_count": 12
        },
        {
          "output_type": "display_data",
          "data": {
            "text/plain": [
              "<Figure size 432x288 with 1 Axes>"
            ],
            "image/png": "[encoded data removed]"
          },
          "metadata": {
            "needs_background": "light"
          }
        }
      ]
    },
    {
      "cell_type": "code",
      "source": [
        "df['Score'].value_counts().plot(kind='barh')  #horizontal barplot"
      ],
      "metadata": {
        "colab": {
          "base_uri": "https://localhost:8080/",
          "height": 282
        },
        "id": "5TpcWbSICn6i",
        "outputId": "ba8276e4-724d-4ebd-8072-d58704a59933"
      },
      "execution_count": 13,
      "outputs": [
        {
          "output_type": "execute_result",
          "data": {
            "text/plain": [
              "<Axes: >"
            ]
          },
          "metadata": {},
          "execution_count": 13
        },
        {
          "output_type": "display_data",
          "data": {
            "text/plain": [
              "<Figure size 432x288 with 1 Axes>"
            ],
            "image/png": "[encoded data removed]"
          },
          "metadata": {
            "needs_background": "light"
          }
        }
      ]
    },
    {
      "cell_type": "code",
      "source": [
        "df.boxplot(by='Batch',column='Score',figsize=(8,8))"
      ],
      "metadata": {
        "colab": {
          "base_uri": "https://localhost:8080/",
          "height": 558
        },
        "id": "4L692iwsQybl",
        "outputId": "75fcbea6-9632-4153-a99c-bbb645d5b773"
      },
      "execution_count": 14,
      "outputs": [
        {
          "output_type": "execute_result",
          "data": {
            "text/plain": [
              "<Axes: title={'center': 'Score'}, xlabel='Batch'>"
            ]
          },
          "metadata": {},
          "execution_count": 14
        },
        {
          "output_type": "display_data",
          "data": {
            "text/plain": [
              "<Figure size 576x576 with 1 Axes>"
            ],
            "image/png": "[encoded data removed]"
          },
          "metadata": {
            "needs_background": "light"
          }
        }
      ]
    }
  ]
}